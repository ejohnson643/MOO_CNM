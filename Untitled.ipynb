{
 "cells": [
  {
   "cell_type": "code",
   "execution_count": 1,
   "metadata": {},
   "outputs": [],
   "source": [
    "from collections import Counter\n",
    "from copy import deepcopy\n",
    "import datetime\n",
    "import matplotlib\n",
    "from matplotlib.patches import Ellipse\n",
    "import matplotlib.pyplot as plt\n",
    "import numpy as np\n",
    "import os\n",
    "import pandas as pd\n",
    "import pickle as pkl\n",
    "import seaborn as sns\n",
    "import scipy.interpolate as intrp\n",
    "import scipy.signal as sig\n",
    "import scipy.stats as st\n",
    "from skimage.filters import threshold_otsu\n",
    "\n",
    "import Utility.DataIO_util as DIO"
   ]
  },
  {
   "cell_type": "code",
   "execution_count": 74,
   "metadata": {},
   "outputs": [
    {
     "name": "stdout",
     "output_type": "stream",
     "text": [
      "\n",
      "DataNum = 0:  ABF (version 1.8.3.0) with 2 channels (mV, mV), sampled at 1.0 kHz, containing 1 sweep, having no tags, with a total length of 1.03 minutes, recorded with protocol \"C:\\Axon\\Params\\matt\\V_clamp lg\".\n",
      "\n",
      "DataNum = 1:  ABF (version 1.8.3.0) with 2 channels (mV, mV), sampled at 1.0 kHz, containing 1 sweep, having no tags, with a total length of 0.35 minutes, recorded with protocol \"C:\\Axon\\Params\\matt\\V_clamp\".\n",
      "\n",
      "DataNum = 2:  ABF (version 1.8.3.0) with 2 channels (mV, mV), sampled at 1.0 kHz, containing 1 sweep, having no tags, with a total length of 0.35 minutes, recorded with protocol \"C:\\Axon\\Params\\matt\\V_clamp\".\n",
      "\n",
      "DataNum = 3:  ABF (version 1.8.3.0) with 2 channels (mV, mV), sampled at 1.0 kHz, containing 1 sweep, having no tags, with a total length of 0.35 minutes, recorded with protocol \"C:\\Axon\\Params\\matt\\V_clamp\".\n",
      "\n",
      "DataNum = 4:  ABF (version 1.8.3.0) with 2 channels (mV, mV), sampled at 1.0 kHz, containing 1 sweep, having no tags, with a total length of 0.35 minutes, recorded with protocol \"C:\\Axon\\Params\\matt\\V_clamp\".\n",
      "\n",
      "DataNum = 5:  ABF (version 1.8.3.0) with 2 channels (mV, mV), sampled at 1.0 kHz, containing 12 sweeps, having no tags, with a total length of 0.46 minutes, recorded with protocol \"C:\\Axon\\Params\\matt\\V_clamp Ires\".\n",
      "\n",
      "DataNum = 6:  ABF (version 1.8.3.0) with 2 channels (mV, mV), sampled at 1.0 kHz, containing 10 sweeps, having no tags, with a total length of 11.37 minutes, recorded with protocol \"C:\\Axon\\Params\\matt\\V_clamp lg\".\n",
      "\n",
      "DataNum = 7:  ABF (version 1.8.3.0) with 1 channel (pA), sampled at 10.0 kHz, containing 200 sweeps, having no tags, with a total length of 6.70 minutes, recorded with protocol \"C:\\Axon\\Params\\matt\\Ramp -100 -45 PDF\".\n",
      "\n",
      "DataNum = 8:  ABF (version 1.8.3.0) with 2 channels (mV, mV), sampled at 1.0 kHz, containing 4 sweeps, having no tags, with a total length of 5.17 minutes, recorded with protocol \"C:\\Axon\\Params\\matt\\V_clamp lg\".\n",
      "\n",
      "DataNum = 9:  ABF (version 1.8.3.0) with 2 channels (mV, mV), sampled at 1.0 kHz, containing 1 sweep, having no tags, with a total length of 0.35 minutes, recorded with protocol \"C:\\Axon\\Params\\matt\\V_clamp\".\n",
      "\n",
      "DataNum = 10:  ABF (version 1.8.3.0) with 2 channels (mV, mV), sampled at 1.0 kHz, containing 10 sweeps, having no tags, with a total length of 11.37 minutes, recorded with protocol \"C:\\Axon\\Params\\matt\\V_clamp lg\".\n",
      "\n",
      "DataNum = 11:  ABF (version 1.8.3.0) with 1 channel (pA), sampled at 10.0 kHz, containing 100 sweeps, having no tags, with a total length of 3.37 minutes, recorded with protocol \"C:\\Axon\\Params\\matt\\Ramp -100 +100\".\n",
      "\n",
      "DataNum = 12:  ABF (version 1.8.3.0) with 1 channel (pA), sampled at 10.0 kHz, containing 100 sweeps, having no tags, with a total length of 3.37 minutes, recorded with protocol \"C:\\Axon\\Params\\matt\\Ramp -100 +100\".\n",
      "\n",
      "DataNum = 13:  ABF (version 1.8.3.0) with 1 channel (pA), sampled at 10.0 kHz, containing 100 sweeps, having no tags, with a total length of 3.37 minutes, recorded with protocol \"C:\\Axon\\Params\\matt\\Ramp -100 +100\".\n",
      "\n",
      "DataNum = 14:  ABF (version 1.8.3.0) with 1 channel (pA), sampled at 10.0 kHz, containing 100 sweeps, having no tags, with a total length of 3.37 minutes, recorded with protocol \"C:\\Axon\\Params\\matt\\Ramp -100 +100\".\n",
      "\n",
      "DataNum = 15:  ABF (version 1.8.3.0) with 2 channels (mV, mV), sampled at 1.0 kHz, containing 7 sweeps, having no tags, with a total length of 8.27 minutes, recorded with protocol \"C:\\Axon\\Params\\matt\\V_clamp lg\".\n",
      "\n",
      "DataNum = 16:  ABF (version 1.8.3.0) with 2 channels (mV, mV), sampled at 1.0 kHz, containing 8 sweeps, having no tags, with a total length of 9.30 minutes, recorded with protocol \"C:\\Axon\\Params\\matt\\V_clamp lg\".\n",
      "\n",
      "DataNum = 17:  ABF (version 1.8.3.0) with 2 channels (mV, mV), sampled at 1.0 kHz, containing 8 sweeps, having no tags, with a total length of 9.30 minutes, recorded with protocol \"C:\\Axon\\Params\\matt\\V_clamp lg\".\n",
      "\n",
      "DataNum = 18:  ABF (version 1.8.3.0) with 1 channel (pA), sampled at 10.0 kHz, containing 100 sweeps, having no tags, with a total length of 3.37 minutes, recorded with protocol \"C:\\Axon\\Params\\matt\\Ramp -100 +100\".\n",
      "\n",
      "DataNum = 19:  ABF (version 1.8.3.0) with 1 channel (pA), sampled at 10.0 kHz, containing 100 sweeps, having no tags, with a total length of 3.37 minutes, recorded with protocol \"C:\\Axon\\Params\\matt\\Ramp -100 +100\".\n",
      "\n",
      "DataNum = 20:  ABF (version 1.8.3.0) with 1 channel (pA), sampled at 10.0 kHz, containing 100 sweeps, having no tags, with a total length of 3.37 minutes, recorded with protocol \"C:\\Axon\\Params\\matt\\Ramp -100 +100\".\n"
     ]
    }
   ],
   "source": [
    "fileName = \"06/04/2011\"\n",
    "for ii in range(100):\n",
    "    try:\n",
    "        data = DIO.loadABF(fileName, dataNum=ii)\n",
    "        print(f\"\\nDataNum = {ii}: \", data)\n",
    "    except:\n",
    "        break\n",
    "\n",
    "data = DIO.loadABF(fileName, dataNum=5)"
   ]
  },
  {
   "cell_type": "code",
   "execution_count": 75,
   "metadata": {},
   "outputs": [],
   "source": [
    "with open(\"testABF.html\", \"w\") as f:\n",
    "    f.write(data.headerHTML)"
   ]
  },
  {
   "cell_type": "code",
   "execution_count": 76,
   "metadata": {},
   "outputs": [
    {
     "data": {
      "text/html": [
       "<html><head><style>body {font-family: sans-serif;}code {background-color: #F2F2F2; padding: 2px;}.item {margin-left: 2em; margin-top: .5em;}.section {font-size: 150%;font-weight:bold;margin-top:2em;}.docs {font-style: italic; font-family: serif;}</style><title>2011_04_06_0005.abf</title></head><body><h1>2011_04_06_0005.abf</h1>\n",
       "<div class='section'>ABF Class Methods</div>\n",
       "<div class='item'>abf.launchInClampFit()</div>\n",
       "<div class='item'>abf.saveABF1()</div>\n",
       "<div class='item'>abf.setSweep()</div>\n",
       "<div class='item'>abf.sweepD()</div>\n",
       "<div class='section'>ABF Class Variables</div>\n",
       "<div class='item'>abfDateTime = <code>2011-04-06 14:27:11</code></div>\n",
       "<div class='item'>abfDateTimeString = <code>2011-04-06T14:27:11.000</code></div>\n",
       "<div class='item'>abfFileComment = <code></code></div>\n",
       "<div class='item'>abfFilePath = <code>/piggy/home/emj760/Documents/ArmyProjectCode/EA_Code/Data/FlourakisData/2P/2011/April 2011/04062011/2011_04_06_0005.abf</code></div>\n",
       "<div class='item'>abfFolderPath = <code>/piggy/home/emj760/Documents/ArmyProjectCode/EA_Code/Data/FlourakisData/2P/2011/April 2011/04062011</code></div>\n",
       "<div class='item'>abfID = <code>2011_04_06_0005</code></div>\n",
       "<div class='item'>abfVersion = <code>{'major': 1, 'minor': 8, 'bugfix': 3, 'build': 0}</code></div>\n",
       "<div class='item'>abfVersionString = <code>1.8.3.0</code></div>\n",
       "<div class='item'>adcNames = <code>['Vm_scaled', '10_Vm']</code></div>\n",
       "<div class='item'>adcUnits = <code>['mV', 'mV']</code></div>\n",
       "<div class='item'>channelCount = <code>2</code></div>\n",
       "<div class='item'>channelList = <code>[0, 1]</code></div>\n",
       "<div class='item'>creatorVersion = <code>{'major': 0, 'minor': 0, 'bugfix': 0, 'build': 0}</code></div>\n",
       "<div class='item'>creatorVersionString = <code>0.0.0.0</code></div>\n",
       "<div class='item'>dacNames = <code>['?', '?']</code></div>\n",
       "<div class='item'>dacUnits = <code>['?', '?']</code></div>\n",
       "<div class='item'>data = <code>[[-54.1687 -54.9316 -54.3213 ... -57.0679 -57.0679 -57.2205]\n",
       " [ -0.7019  -0.6714  -0.3662 ...  -0.6256  -0.6866  -0.2899]]</code></div>\n",
       "<div class='item'>dataByteStart = <code>8192</code></div>\n",
       "<div class='item'>dataLengthMin = <code>0.45500000000000007</code></div>\n",
       "<div class='item'>dataLengthSec = <code>27.300000000000004</code></div>\n",
       "<div class='item'>dataPointByteSize = <code>2</code></div>\n",
       "<div class='item'>dataPointCount = <code>50400</code></div>\n",
       "<div class='item'>dataPointsPerMs = <code>1</code></div>\n",
       "<div class='item'>dataRate = <code>1000</code></div>\n",
       "<div class='item'>dataSecPerPoint = <code>0.001</code></div>\n",
       "<div class='item'>fileGUID = <code>{E48EAFD5-96B2-44D0-9C4B-1A4405C44E4E}</code></div>\n",
       "<div class='item'>holdingCommand = <code>[-0.009999999776482582, -0.009999999776482582, -0.009999999776482582, 0.0, 0.0, 0.0, 0.0, 0.0, 0.0, 0.0, 0.0, 0.0, 0.0, 0.0, 0.0, 0.0, 0.0, 0.0, 0.0, 0.0]</code></div>\n",
       "<div class='item'>protocol = <code>C:\\Axon\\Params\\matt\\V_clamp Ires</code></div>\n",
       "<div class='item'>protocolPath = <code>C:\\Axon\\Params\\matt\\V_clamp Ires.pro</code></div>\n",
       "<div class='item'>stimulusByChannel = <code>[Stimulus(abf, 0), Stimulus(abf, 1)]</code></div>\n",
       "<div class='item'>stimulusFileFolder = <code>/piggy/home/emj760/Documents/ArmyProjectCode/EA_Code/Data/FlourakisData/2P/2011/April 2011/04062011</code></div>\n",
       "<div class='item'>sweepC = <code>[-0.01 -0.01 -0.01 ... -0.01 -0.01 -0.01]</code></div>\n",
       "<div class='item'>sweepChannel = <code>0</code></div>\n",
       "<div class='item'>sweepCount = <code>12</code></div>\n",
       "<div class='item'>sweepEpochs = <code>Sweep epoch waveform: Step -0.01 [0:32], Step -0.01 [32:532], Step -0.01 [532:1532], Step -0.01 [1532:2032], Step -0.01 [2032:2100]</code></div>\n",
       "<div class='item'>sweepIntervalSec = <code>2.1</code></div>\n",
       "<div class='item'>sweepLabelC = <code>Applied Current (pA)</code></div>\n",
       "<div class='item'>sweepLabelX = <code>time (seconds)</code></div>\n",
       "<div class='item'>sweepLabelY = <code>Membrane Potential (mV)</code></div>\n",
       "<div class='item'>sweepLengthSec = <code>2.1</code></div>\n",
       "<div class='item'>sweepList = <code>[0, 1, 2, 3, 4, 5, 6, 7, 8, 9, 10, 11]</code></div>\n",
       "<div class='item'>sweepNumber = <code>0</code></div>\n",
       "<div class='item'>sweepPointCount = <code>2100</code></div>\n",
       "<div class='item'>sweepTimesMin = <code>[0.    0.035 0.07  ... 0.315 0.35  0.385]</code></div>\n",
       "<div class='item'>sweepTimesSec = <code>[ 0.   2.1  4.2 ... 18.9 21.  23.1]</code></div>\n",
       "<div class='item'>sweepUnitsC = <code>?</code></div>\n",
       "<div class='item'>sweepUnitsX = <code>sec</code></div>\n",
       "<div class='item'>sweepUnitsY = <code>mV</code></div>\n",
       "<div class='item'>sweepX = <code>[0.    0.001 0.002 ... 2.097 2.098 2.099]</code></div>\n",
       "<div class='item'>sweepY = <code>[-54.1687 -54.9316 -54.3213 ... -56.9153 -56.7627 -56.9153]</code></div>\n",
       "<div class='item'>tagComments = <code>[]</code></div>\n",
       "<div class='item'>tagSweeps = <code>[]</code></div>\n",
       "<div class='item'>tagTimesMin = <code>[]</code></div>\n",
       "<div class='item'>tagTimesSec = <code>[]</code></div>\n",
       "<div class='section'>Epochs for Channel 0</div>\n",
       "<pre>\n",
       "                    EPOCH         A         B         C\n",
       "                     Type      Step      Step      Step\n",
       "              First Level     -0.01     -0.01     -0.01\n",
       "              Delta Level      0.00     -0.00      0.00\n",
       "  First Duration (points)       500      1000       500\n",
       "  Delta Duration (points)         0         0         0\n",
       "     Digital Pattern #3-0      0000      0000      0000\n",
       "     Digital Pattern #7-4      0000      0000      0000\n",
       "    Train Period (points)         0         0         0\n",
       "     Pulse Width (points)         0         0         0\n",
       "</pre>\n",
       "\n",
       "<div class='section'>Epochs for Channel 1</div>\n",
       "<pre>\n",
       "\n",
       "</pre>\n",
       "\n",
       "<div class='section'>ABF1 Header</div><br><div class='docs'>The first several bytes of an ABF1 file contain variables<br>    located at specific byte positions from the start of the file.<br>    All ABF1 header values are read in this single block.</div>\n",
       "<div class='item'>abfDateTime = <code>2011-04-06 14:27:11</code></div>\n",
       "<div class='item'>abfDateTimeString = <code>2011-04-06T14:27:11.000</code></div>\n",
       "<div class='item'>abfVersionDict = <code>{'major': 1, 'minor': 8, 'bugfix': 3, 'build': 0}</code></div>\n",
       "<div class='item'>abfVersionFloat = <code>1.83</code></div>\n",
       "<div class='item'>abfVersionString = <code>1.8.3.0</code></div>\n",
       "<div class='item'>creatorVersionDict = <code>{'major': 0, 'minor': 0, 'bugfix': 0, 'build': 0}</code></div>\n",
       "<div class='item'>creatorVersionString = <code>0.0.0.0</code></div>\n",
       "<div class='item'>fADCProgrammableGain = <code>[1.0, 1.0, 1.0, 1.0, 1.0, 1.0, 1.0, 1.0, 1.0, 1.0, 1.0, 1.0, 1.0, 1.0, 1.0, 1.0]</code></div>\n",
       "<div class='item'>fADCRange = <code>10.0</code></div>\n",
       "<div class='item'>fADCSampleInterval = <code>500.0</code></div>\n",
       "<div class='item'>fDACCalibrationFactor = <code>[1.0921599864959717, 1.0953999757766724, 1.0, 1.0]</code></div>\n",
       "<div class='item'>fDACCalibrationOffset = <code>[-168.0, -172.0, 0.0, 0.0]</code></div>\n",
       "<div class='item'>fEpochInitLevel = <code>[-0.009999999776482582, -0.009999999776482582, -0.009999999776482582, 0.0, 0.0, 0.0, 0.0, 0.0, 0.0, 0.0, 0.0, 0.0, 0.0, 0.0, 0.0, 0.0, 0.0, 0.0, 0.0, 0.0]</code></div>\n",
       "<div class='item'>fEpochLevelInc = <code>[0.0, -0.0010000000474974513, 0.0, 0.0, 0.0, 0.0, 0.0, 0.0, 0.0, 0.0, 0.0, 0.0, 0.0, 0.0, 0.0, 0.0, 0.0, 0.0, 0.0, 0.0]</code></div>\n",
       "<div class='item'>fFileSignature = <code>q=?</code></div>\n",
       "<div class='item'>fFileVersionNumber = <code>1.8300000429153442</code></div>\n",
       "<div class='item'>fInstrumentOffset = <code>[0.0, 0.0, 0.0, 0.0, 0.0, 0.0, 0.0, 0.0, 0.0, 0.0, 0.0, 0.0, 0.0, 0.0, 0.0, 0.0]</code></div>\n",
       "<div class='item'>fInstrumentScaleFactor = <code>[0.0010000000474974513, 0.009999999776482582, 0.0010000000474974513, 1.0, 1.0, 1.0, 1.0, 1.0, 1.0, 1.0, 1.0, 1.0, 1.0, 1.0, 1.0, 1.0]</code></div>\n",
       "<div class='item'>fSignalGain = <code>[1.0, 1.0, 1.0, 1.0, 1.0, 1.0, 1.0, 1.0, 1.0, 1.0, 1.0, 1.0, 1.0, 1.0, 1.0, 1.0]</code></div>\n",
       "<div class='item'>fSignalOffset = <code>[0.0, 0.0, 0.0, 0.0, 0.0, 0.0, 0.0, 0.0, 0.0, 0.0, 0.0, 0.0, 0.0, 0.0, 0.0, 0.0]</code></div>\n",
       "<div class='item'>fSynchTimeUnit = <code>25.0</code></div>\n",
       "<div class='item'>fTelegraphAdditGain = <code>[2.0, 2.0, 1.0, 1.0, 1.0, 1.0, 1.0, 1.0, 1.0, 1.0, 1.0, 1.0, 1.0, 1.0, 1.0, 1.0]</code></div>\n",
       "<div class='item'>lADCResolution = <code>32768</code></div>\n",
       "<div class='item'>lActualAcqLength = <code>50400</code></div>\n",
       "<div class='item'>lActualEpisodes = <code>12</code></div>\n",
       "<div class='item'>lDACFileNumEpisodes = <code>[0, 0]</code></div>\n",
       "<div class='item'>lDACFilePtr = <code>[0, 0]</code></div>\n",
       "<div class='item'>lDataSectionPtr = <code>16</code></div>\n",
       "<div class='item'>lEpisodesPerRun = <code>12</code></div>\n",
       "<div class='item'>lEpochDurationInc = <code>[0, 0, 0, 0, 0, 0, 0, 0, 0, 0, 0, 0, 0, 0, 0, 0, 0, 0, 0, 0]</code></div>\n",
       "<div class='item'>lEpochInitDuration = <code>[500, 1000, 500, 0, 0, 0, 0, 0, 0, 0, 0, 0, 0, 0, 0, 0, 0, 0, 0, 0]</code></div>\n",
       "<div class='item'>lFileStartDate = <code>20110406</code></div>\n",
       "<div class='item'>lFileStartTime = <code>52031</code></div>\n",
       "<div class='item'>lNumSamplesPerEpisode = <code>4200</code></div>\n",
       "<div class='item'>lNumTagEntries = <code>0</code></div>\n",
       "<div class='item'>lPreTriggerSamples = <code>32</code></div>\n",
       "<div class='item'>lSynchArrayPtr = <code>213</code></div>\n",
       "<div class='item'>lSynchArraySize = <code>12</code></div>\n",
       "<div class='item'>lTagSectionPtr = <code>0</code></div>\n",
       "<div class='item'>lTagTime = <code>[]</code></div>\n",
       "<div class='item'>nADCNumChannels = <code>2</code></div>\n",
       "<div class='item'>nADCPtoLChannelMap = <code>[0, 1, 2, 3, 4, 5, 6, 7, 8, 9, 10, 11, 12, 13, 14, 15]</code></div>\n",
       "<div class='item'>nADCSamplingSeq = <code>[0, 2, -1, -1, -1, -1, -1, -1, -1, -1, -1, -1, -1, -1, -1, -1]</code></div>\n",
       "<div class='item'>nActiveDACChannel = <code>0</code></div>\n",
       "<div class='item'>nDataFormat = <code>0</code></div>\n",
       "<div class='item'>nDigitalEnable = <code>0</code></div>\n",
       "<div class='item'>nDigitalHolding = <code>16</code></div>\n",
       "<div class='item'>nDigitalInterEpisode = <code>0</code></div>\n",
       "<div class='item'>nDigitalValue = <code>[0, 0, 0, 0, 0, 0, 0, 0, 0, 0]</code></div>\n",
       "<div class='item'>nEpochType = <code>[1, 1, 1, 0, 0, 0, 0, 0, 0, 0, 0, 0, 0, 0, 0, 0, 0, 0, 0, 0]</code></div>\n",
       "<div class='item'>nExperimentType = <code>2</code></div>\n",
       "<div class='item'>nFileStartMillisecs = <code>263</code></div>\n",
       "<div class='item'>nInterEpisodeLevel = <code>[0, 0]</code></div>\n",
       "<div class='item'>nNumPointsIgnored = <code>0</code></div>\n",
       "<div class='item'>nOperationMode = <code>5</code></div>\n",
       "<div class='item'>nTagType = <code>[]</code></div>\n",
       "<div class='item'>nTelegraphEnable = <code>[1, 1, 0, 0, 0, 0, 0, 0, 0, 0, 0, 0, 0, 0, 0, 0]</code></div>\n",
       "<div class='item'>nWaveformEnable = <code>[1, 0]</code></div>\n",
       "<div class='item'>nWaveformSource = <code>[1, 1]</code></div>\n",
       "<div class='item'>sADCChannelName = <code>['Vm_scaled', '10_Vm', 'I_output', 'IN 3', 'IN 4', 'IN 5', 'IN 6', 'IN 7', 'IN 8', 'IN 9', 'IN 10', 'IN 11', 'IN 12', 'IN 13', 'IN 14', 'IN 15']</code></div>\n",
       "<div class='item'>sADCUnits = <code>['mV', 'mV', 'pA', 'V', 'V', 'V', 'V', 'V', 'V', 'V', 'V', 'V', 'V', 'V', 'V', 'V']</code></div>\n",
       "<div class='item'>sComment = <code>[]</code></div>\n",
       "<div class='item'>sFileGUID = <code>{E48EAFD5-96B2-44D0-9C4B-1A4405C44E4E}</code></div>\n",
       "<div class='item'>sProtocolPath = <code>C:\\Axon\\Params\\matt\\V_clamp Ires.pro</code></div>\n",
       "<div class='item'>uFileGUID = <code>[213, 175, 142, 228, 178, 150, 208, 68, 156, 75, 26, 68, 5, 196, 67, 78]</code></div></body></html>"
      ],
      "text/plain": [
       "<IPython.core.display.HTML object>"
      ]
     },
     "metadata": {},
     "output_type": "display_data"
    }
   ],
   "source": [
    "from IPython.display import HTML, display\n",
    "display(HTML(data.headerHTML))"
   ]
  },
  {
   "cell_type": "code",
   "execution_count": 77,
   "metadata": {},
   "outputs": [
    {
     "data": {
      "text/plain": [
       "[32, 532, 1532, 2032, 2100]"
      ]
     },
     "execution_count": 77,
     "metadata": {},
     "output_type": "execute_result"
    }
   ],
   "source": [
    "data.sweepEpochs.p2s"
   ]
  },
  {
   "cell_type": "code",
   "execution_count": 78,
   "metadata": {},
   "outputs": [
    {
     "data": {
      "text/plain": [
       "array([0, 0, 0, ..., 0, 0, 0])"
      ]
     },
     "execution_count": 78,
     "metadata": {},
     "output_type": "execute_result"
    }
   ],
   "source": [
    "data.sweepD()"
   ]
  },
  {
   "cell_type": "code",
   "execution_count": 79,
   "metadata": {},
   "outputs": [
    {
     "name": "stdout",
     "output_type": "stream",
     "text": [
      "Help on method sweepD in module pyabf.abf:\n",
      "\n",
      "sweepD(digOutNumber=0) method of pyabf.abf.ABF instance\n",
      "    Generate a waveform for the given digital output.\n",
      "\n"
     ]
    }
   ],
   "source": [
    "help(data.sweepD)"
   ]
  },
  {
   "cell_type": "code",
   "execution_count": 80,
   "metadata": {},
   "outputs": [
    {
     "data": {
      "text/plain": [
       "[<matplotlib.lines.Line2D at 0x7f647bbdde48>]"
      ]
     },
     "execution_count": 80,
     "metadata": {},
     "output_type": "execute_result"
    },
    {
     "data": {
      "image/png": "[encoded data removed]",
      "text/plain": [
       "<Figure size 432x288 with 1 Axes>"
      ]
     },
     "metadata": {
      "needs_background": "light"
     },
     "output_type": "display_data"
    }
   ],
   "source": [
    "data.setSweep(3)\n",
    "plt.plot(data.sweepD())"
   ]
  },
  {
   "cell_type": "code",
   "execution_count": 81,
   "metadata": {},
   "outputs": [
    {
     "data": {
      "text/plain": [
       "[<matplotlib.lines.Line2D at 0x7f647bba7d68>]"
      ]
     },
     "execution_count": 81,
     "metadata": {},
     "output_type": "execute_result"
    },
    {
     "data": {
      "image/png": "[encoded data removed]",
      "text/plain": [
       "<Figure size 432x288 with 1 Axes>"
      ]
     },
     "metadata": {
      "needs_background": "light"
     },
     "output_type": "display_data"
    }
   ],
   "source": [
    "plt.plot(data.sweepY)"
   ]
  },
  {
   "cell_type": "code",
   "execution_count": 47,
   "metadata": {},
   "outputs": [
    {
     "data": {
      "image/png": "[encoded data removed]",
      "text/plain": [
       "<Figure size 432x288 with 1 Axes>"
      ]
     },
     "metadata": {
      "needs_background": "light"
     },
     "output_type": "display_data"
    }
   ],
   "source": [
    "for ii in data.sweepList:\n",
    "    data.setSweep(ii)\n",
    "    plt.plot(data.sweepX, data.sweepC)"
   ]
  },
  {
   "cell_type": "code",
   "execution_count": 50,
   "metadata": {},
   "outputs": [
    {
     "name": "stdout",
     "output_type": "stream",
     "text": [
      "[-0.009999999776482582, -0.009999999776482582, -0.021000000298954546, -0.009999999776482582, -0.009999999776482582]\n",
      "['Step', 'Step', 'Step', 'Step', 'Step']\n"
     ]
    }
   ],
   "source": [
    "print(data.sweepEpochs.levels)\n",
    "print(data.sweepEpochs.types)"
   ]
  },
  {
   "cell_type": "code",
   "execution_count": 53,
   "metadata": {},
   "outputs": [
    {
     "data": {
      "text/plain": [
       "(2100,)"
      ]
     },
     "execution_count": 53,
     "metadata": {},
     "output_type": "execute_result"
    }
   ],
   "source": [
    "data.sweepEpochs.getWaveform().shape"
   ]
  },
  {
   "cell_type": "code",
   "execution_count": 54,
   "metadata": {},
   "outputs": [
    {
     "data": {
      "text/plain": [
       "[<matplotlib.lines.Line2D at 0x7f648046b358>]"
      ]
     },
     "execution_count": 54,
     "metadata": {},
     "output_type": "execute_result"
    },
    {
     "data": {
      "image/png": "[encoded data removed]",
      "text/plain": [
       "<Figure size 432x288 with 1 Axes>"
      ]
     },
     "metadata": {
      "needs_background": "light"
     },
     "output_type": "display_data"
    }
   ],
   "source": [
    "plt.plot(data.sweepEpochs.getWaveform())"
   ]
  },
  {
   "cell_type": "code",
   "execution_count": 65,
   "metadata": {},
   "outputs": [
    {
     "data": {
      "text/plain": [
       "[<matplotlib.lines.Line2D at 0x7f647bc66f60>]"
      ]
     },
     "execution_count": 65,
     "metadata": {},
     "output_type": "execute_result"
    },
    {
     "data": {
      "image/png": "[encoded data removed]",
      "text/plain": [
       "<Figure size 432x288 with 1 Axes>"
      ]
     },
     "metadata": {
      "needs_background": "light"
     },
     "output_type": "display_data"
    }
   ],
   "source": [
    "plt.plot(data.sweepEpochs.getDigitalWaveform(2))"
   ]
  },
  {
   "cell_type": "code",
   "execution_count": 70,
   "metadata": {},
   "outputs": [
    {
     "data": {
      "text/plain": [
       "True"
      ]
     },
     "execution_count": 70,
     "metadata": {},
     "output_type": "execute_result"
    }
   ],
   "source": [
    "import pyabf as abf\n",
    "type(data) == abf.ABF"
   ]
  },
  {
   "cell_type": "code",
   "execution_count": 84,
   "metadata": {},
   "outputs": [
    {
     "data": {
      "text/plain": [
       "(2, 25200)"
      ]
     },
     "execution_count": 84,
     "metadata": {},
     "output_type": "execute_result"
    }
   ],
   "source": [
    "data.data.shape"
   ]
  },
  {
   "cell_type": "code",
   "execution_count": 89,
   "metadata": {},
   "outputs": [
    {
     "data": {
      "text/plain": [
       "[<matplotlib.lines.Line2D at 0x7f647ba85d68>]"
      ]
     },
     "execution_count": 89,
     "metadata": {},
     "output_type": "execute_result"
    },
    {
     "data": {
      "image/png": "[encoded data removed]",
      "text/plain": [
       "<Figure size 432x288 with 1 Axes>"
      ]
     },
     "metadata": {
      "needs_background": "light"
     },
     "output_type": "display_data"
    }
   ],
   "source": [
    "plt.plot(data.data[0])"
   ]
  },
  {
   "cell_type": "code",
   "execution_count": 92,
   "metadata": {},
   "outputs": [
    {
     "data": {
      "text/plain": [
       "(12, 2100)"
      ]
     },
     "execution_count": 92,
     "metadata": {},
     "output_type": "execute_result"
    }
   ],
   "source": [
    "data.data[0].reshape(data.sweepCount, -1).shape"
   ]
  },
  {
   "cell_type": "code",
   "execution_count": 91,
   "metadata": {},
   "outputs": [
    {
     "data": {
      "text/plain": [
       "12"
      ]
     },
     "execution_count": 91,
     "metadata": {},
     "output_type": "execute_result"
    }
   ],
   "source": [
    "data.sweepCount"
   ]
  },
  {
   "cell_type": "code",
   "execution_count": null,
   "metadata": {},
   "outputs": [],
   "source": []
  }
 ],
 "metadata": {
  "kernelspec": {
   "display_name": "Python 3",
   "language": "python",
   "name": "python3"
  },
  "language_info": {
   "codemirror_mode": {
    "name": "ipython",
    "version": 3
   },
   "file_extension": ".py",
   "mimetype": "text/x-python",
   "name": "python",
   "nbconvert_exporter": "python",
   "pygments_lexer": "ipython3",
   "version": "3.7.2"
  }
 },
 "nbformat": 4,
 "nbformat_minor": 2
}
